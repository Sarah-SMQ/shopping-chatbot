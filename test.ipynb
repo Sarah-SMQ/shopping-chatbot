{
 "cells": [
  {
   "cell_type": "code",
   "execution_count": 3,
   "id": "44ef1959",
   "metadata": {},
   "outputs": [
    {
     "ename": "SyntaxError",
     "evalue": "invalid syntax (3623534458.py, line 2)",
     "output_type": "error",
     "traceback": [
      "  \u001b[36mCell\u001b[39m\u001b[36m \u001b[39m\u001b[32mIn[3]\u001b[39m\u001b[32m, line 2\u001b[39m\n\u001b[31m    \u001b[39m\u001b[31mfrom app.py import def save_session_unified(data):\u001b[39m\n                       ^\n\u001b[31mSyntaxError\u001b[39m\u001b[31m:\u001b[39m invalid syntax\n"
     ]
    }
   ],
   "source": [
    "# التأكد من استيراد الدالة أولًا\n",
    "from app.py import def save_session_unified(data):\n",
    "print(\"ALL_CHATS_FILE داخل globals:\", from app.py import def save_session_unified.__globals__[\"ALL_CHATS_FILE\"])\n",
    "\n"
   ]
  },
  {
   "cell_type": "code",
   "execution_count": 5,
   "id": "b2ada80e",
   "metadata": {},
   "outputs": [
    {
     "name": "stdout",
     "output_type": "stream",
     "text": [
      "ALL_CHATS_FILE exists before saving: True\n"
     ]
    }
   ],
   "source": [
    "import os\n",
    "\n",
    "ALL_CHATS_FILE = \"data_shopping.json\"\n",
    "print(\"ALL_CHATS_FILE exists before saving:\", os.path.exists(ALL_CHATS_FILE))\n",
    "\n"
   ]
  },
  {
   "cell_type": "code",
   "execution_count": null,
   "id": "bc580846",
   "metadata": {},
   "outputs": [],
   "source": []
  }
 ],
 "metadata": {
  "kernelspec": {
   "display_name": ".venv",
   "language": "python",
   "name": "python3"
  },
  "language_info": {
   "codemirror_mode": {
    "name": "ipython",
    "version": 3
   },
   "file_extension": ".py",
   "mimetype": "text/x-python",
   "name": "python",
   "nbconvert_exporter": "python",
   "pygments_lexer": "ipython3",
   "version": "3.11.9"
  }
 },
 "nbformat": 4,
 "nbformat_minor": 5
}
